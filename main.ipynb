{
 "cells": [
  {
   "cell_type": "code",
   "execution_count": 1,
   "id": "4c46bc39",
   "metadata": {},
   "outputs": [],
   "source": [
    "#!/usr/bin/env python\n",
    "from tinygrad.tensor import Tensor\n",
    "from tinygrad.nn import Linear\n",
    "from tinygrad.ops import GlobalCounters\n",
    "from tinygrad.jit import TinyJit\n",
    "from llama import *\n",
    "from extra.utils import fake_torch_load_zipped, get_child\n",
    "from dotenv import load_dotenv\n",
    "import numpy as np\n",
    "from tqdm import tqdm\n",
    "from os import getenv, listdir\n",
    "import sys, argparse, math"
   ]
  },
  {
   "cell_type": "code",
   "execution_count": 2,
   "id": "ac13c45c",
   "metadata": {},
   "outputs": [
    {
     "name": "stdout",
     "output_type": "stream",
     "text": [
      "Run with 7B model\n"
     ]
    }
   ],
   "source": [
    "\n",
    "load_dotenv('./config/Share.env')\n",
    "MachineConf = getenv('MACHINE')\n",
    "#load_dotenv(getenv('MACHINE'))\n",
    "\n",
    "WEIGHT_DIR = '../tinygrad/weights/LLaMA' # getenv('WEIGHT', '../../weights/LLaMA')\n",
    "MODEL_SIZE = getenv('MODEL', '7B')\n",
    "TOKENIZER_FILENAME = f'{WEIGHT_DIR}/tokenizer.model'\n",
    "MODEL_DIM = {\n",
    "    '7B': 4096,\n",
    "    '13B': 5120,\n",
    "    '33B': 6656,\n",
    "    '65B': 8192,\n",
    "}[MODEL_SIZE]\n",
    "\n",
    "VOCAB_SIZE = 32000\n",
    "MODEL_ARGS = {\"dim\": MODEL_DIM, \"multiple_of\": 256, \"n_heads\": 32, \"n_layers\": 32, \"norm_eps\": 1e-06, \"vocab_size\": VOCAB_SIZE}\n",
    "\n",
    "print(f\"Run with {MODEL_SIZE} model\")"
   ]
  },
  {
   "cell_type": "code",
   "execution_count": 3,
   "id": "d2a7c796",
   "metadata": {},
   "outputs": [],
   "source": [
    "from llama import *"
   ]
  },
  {
   "cell_type": "code",
   "execution_count": 4,
   "id": "87d345de",
   "metadata": {},
   "outputs": [
    {
     "name": "stdout",
     "output_type": "stream",
     "text": [
      "using METAL backend\n",
      "using METAL backend\n"
     ]
    },
    {
     "name": "stderr",
     "output_type": "stream",
     "text": [
      "loading 288 ram used: 13.48 GB: 100%|███████████████████████████████████████████████████████████████████████████| 323/323 [00:08<00:00, 39.99it/s]"
     ]
    },
    {
     "name": "stdout",
     "output_type": "stream",
     "text": [
      "loaded weights in 8120.43 ms, 13.48 GB loaded at 1.66 GB/s\n",
      "concat weights\n"
     ]
    },
    {
     "name": "stderr",
     "output_type": "stream",
     "text": [
      "\n"
     ]
    }
   ],
   "source": [
    "\n",
    "if __name__ == '__main__':\n",
    "  Tensor.no_grad = True\n",
    "\n",
    "  parser = argparse.ArgumentParser(description='LLaMA Runtime environment', formatter_class=argparse.ArgumentDefaultsHelpFormatter)\n",
    "  parser.add_argument('--prompt', type=str, default=None, help=\"Phrase to start with. Without this, it goes into chatbot mode\")\n",
    "  parser.add_argument('--count', type=int, default=1000, help=\"M\u001bOB\u001bOBax number of tokens to generate\")\n",
    "\n",
    "  parser.add_argument('--temperature', type=float, default=0.7, help=\"Temperature in the softmax\")\n",
    "  parser.add_argument('--timing', action='store_true', help=\"Print timing per token\")\n",
    "  parser.add_argument('--profile', action='store_true', help=\"Output profile data to out.prof\")\n",
    "  parser.add_argument('--backend', type=str, default=\"METAL\", help=\"Support [CPU, GPU, METAL, CLANG, LLVM, TORCH]\")\n",
    "  #args = parser.parse_args()\n",
    "  args = parser.parse_args(args=[]) # for jupyter\n",
    "  Device.DEFAULT = args.backend\n",
    "  chatbot = args.prompt == None\n",
    "  \n",
    "  print(f\"using {Device.DEFAULT} backend\")\n",
    "  from sentencepiece import SentencePieceProcessor\n",
    "  sp_model = SentencePieceProcessor(model_file=str(TOKENIZER_FILENAME))\n",
    "  assert sp_model.vocab_size() == VOCAB_SIZE\n",
    "\n",
    "\n",
    "  model = Transformer(**MODEL_ARGS)\n",
    "  WEIGHT_FILES_DIR = f'{WEIGHT_DIR}/{MODEL_SIZE}'\n",
    "  WEIGHT_FILES = [ f'{WEIGHT_FILES_DIR}/{fn}' for fn in listdir(WEIGHT_FILES_DIR) if fn.startswith('consolidated') ]\n",
    "  weights = []\n",
    "\n",
    "  for WEIGHT_FILE in WEIGHT_FILES:\n",
    "    with Timing(\"loaded weights in \", lambda et_ns: f\", {GlobalCounters.mem_used/1e9:.2f} GB loaded at {GlobalCounters.mem_used/et_ns:.2f} GB/s\"):\n",
    "      weights.append(fake_torch_load_zipped(open(WEIGHT_FILE, \"rb\"), load_weights=getenv(\"WEIGHTS\", 1)))\n",
    "  set_of_weight = weights[0].keys()\n",
    "  \n",
    "  # Check the key of weights\n",
    "  for w in weights:\n",
    "    assert set_of_weight == w.keys()\n",
    "  \n",
    "  print(\"concat weights\")"
   ]
  },
  {
   "cell_type": "code",
   "execution_count": 5,
   "id": "04112324",
   "metadata": {},
   "outputs": [
    {
     "name": "stderr",
     "output_type": "stream",
     "text": [
      "ram used: 13.48 GB: 100%|██████████████████████████████████████████████████████████████████████████████████████| 323/323 [00:00<00:00, 644.72it/s]"
     ]
    },
    {
     "name": "stdout",
     "output_type": "stream",
     "text": [
      "concatenated\n"
     ]
    },
    {
     "name": "stderr",
     "output_type": "stream",
     "text": [
      "\n"
     ]
    }
   ],
   "source": [
    "for k,v in (t := tqdm(weights[0].items())):\n",
    "  t.set_description(f\"ram used: {GlobalCounters.mem_used/1e9:5.2f} GB\")\n",
    "  if 'rope.freqs' in k: continue\n",
    "  \n",
    "  mv = get_child(model, k)\n",
    "  w = [v] + [ _w[k] for _w in weights[1:] ]\n",
    "  \n",
    "  if w[0].shape == mv.shape:\n",
    "    mv.assign(w[0])\n",
    "    mv.realize()\n",
    "    for _w in w[1:]:\n",
    "      _w.lazydata.realized._buf = None\n",
    "    continue\n",
    "  for _w in w[1:]:\n",
    "    dim = -1\n",
    "    if w[0].shape[0] != mv.shape[0]:\n",
    "      dim = 0\n",
    "    elif w[0].shape[1] != mv.shape[1]:\n",
    "      dim = 1\n",
    "    if dim == -1:\n",
    "      raise RuntimeError(\"what axis mismatch?\")\n",
    "    mv.assign(w[0].cat(_w, dim=dim))\n",
    "  mv.realize()\n",
    "\n",
    "# Delete the weights\n",
    "for i in range(len(w)):\n",
    "    del w[i]\n",
    "print(\"concatenated\")\n",
    "    "
   ]
  },
  {
   "cell_type": "code",
   "execution_count": 6,
   "id": "903a7ae2",
   "metadata": {},
   "outputs": [],
   "source": [
    "pre_prompt = \"\"\"Consider that the following is conversation between AI assistant named Gale and human named USER.\n",
    "You are Wilson.\n",
    "You love to answer questions and you are very good at it.\n",
    "You will write on language that USER asks you to write on.\n",
    "You are fluent in any language.\n",
    "\n",
    "YOUR INSTRUCTIONS:\n",
    "-------------------------------------------------------------------------------\n",
    "You may only interact with the [USER] in form of the following commands:\n",
    "\"RESP\" \"message\" [EOS]\n",
    "\n",
    "CHAT HISTORY:\n",
    "-------------------------------------------------------------------------------\n",
    "USER: what is the population of Taiwan?\n",
    "RESP: The current population of Taiwan is 23,934,280 as of Tuesday, March 28, 2023, based on Worldometer elaboration of the latest United Nations data.[EOS]\n",
    "USER: What's the highest building in Taiwan?\n",
    "RESP: The tallest building in Taiwan is currently the 101–story Taipei 101, which rises 509.2 metres (1,671 ft) and was completed in 2004. It was officially classified as the world's tallest from 2004 to 2010. Now, it is still the tallest building in Taiwan.[EOS]\n",
    "USER: How do I make an HTTP request in Javascript?\n",
    "RESP: In JavaScript, you can make an HTTP request using the built-in fetch() function. Here's an example of how to use fetch() to make a GET request to a URL and retrieve the response:\n",
    "```javascript\n",
    "fetch('https://example.com/data.json')\n",
    "  .then(response => response.json())\n",
    "  .then(data => console.log(data))\n",
    "  .catch(error => console.error(error));\n",
    "\n",
    "```\n",
    "In this example, fetch() takes a URL as its first parameter and returns a promise that resolves to a Response object. You can then use the json() method of the Response object to parse the response body as JSON. The resulting data is then logged to the console. If there is an error, it is caught and logged to the console.[EOS]\n",
    "USER: What is the color of sky?\n",
    "RESP: Color of sky can be various shades of blue.[EOS]\n",
    "\"\"\"\n",
    "\n",
    "USER_DELIM = getenv('USER_DELIM', 'USER:')\n",
    "RESP_DELIM = getenv('RESP_DELIM', 'RESP:')\n",
    "END_DELIM = getenv('END_DELIM', '[EOS]')"
   ]
  },
  {
   "cell_type": "code",
   "execution_count": 7,
   "id": "21ca8837",
   "metadata": {},
   "outputs": [],
   "source": [
    "def onehot_encode(toks, vocab_size=VOCAB_SIZE):\n",
    "  # this allows the embedding to work in tinygrad\n",
    "  onehot = np.zeros((1, len(toks), vocab_size), dtype=np.float32)\n",
    "  onehot[0,range(len(toks)),toks] = 1\n",
    "  return Tensor(onehot)\n",
    "\n",
    "def sample(logits, temperature):\n",
    "  if temperature < 1e-6:\n",
    "    # so close to 0 we use argmax\n",
    "    return int(logits.numpy().argmax())\n",
    "  else:\n",
    "    probs = (logits / temperature).softmax()\n",
    "    probs = probs.numpy().flatten()\n",
    "    return int(np.random.choice(len(probs), p=probs))"
   ]
  },
  {
   "cell_type": "code",
   "execution_count": null,
   "id": "54ced53b",
   "metadata": {},
   "outputs": [
    {
     "name": "stdout",
     "output_type": "stream",
     "text": [
      "Run thought KV cache for the transformers...\n"
     ]
    }
   ],
   "source": [
    "if chatbot:\n",
    "  # encode pre prompt\n",
    "  toks = [sp_model.bos_id()] + sp_model.encode(pre_prompt)\n",
    "\n",
    "  print(f\"Run thought KV cache for the transformers...\")\n",
    "  with Timing():\n",
    "    model(onehot_encode(toks), 0).realize()  # NOTE: output logits are not used\n",
    "    start_pos = len(toks)\n",
    "else:\n",
    "  # non chat bot mode\n",
    "  toks = [sp_model.bos_id()] + sp_model.encode(args.prompt)\n",
    "  start_pos = 0\n",
    "\n",
    "# print prompt\n",
    "outputted = sp_model.decode(toks)\n",
    "sys.stdout.write(outputted)\n",
    "sys.stdout.flush()"
   ]
  },
  {
   "cell_type": "code",
   "execution_count": null,
   "id": "b54a94e0",
   "metadata": {},
   "outputs": [],
   "source": [
    "while True:\n",
    "  if chatbot:\n",
    "    user_prompt = USER_DELIM + input(USER_DELIM) + \"\\n\"\n",
    "    outputted += USER_DELIM\n",
    "\n",
    "  new_toks = [sp_model.bos_id()] + sp_model.encode(outputted)\n",
    "  assert toks == new_toks[:len(toks)]\n",
    "  toks = new_toks\n",
    "  assert outputted == sp_model.decode(toks)\n",
    "\n",
    "  last_break = len(outputted)\n",
    "  for i in range(args.count):\n",
    "    if args.profile and i == 2: profiler.enable()\n",
    "\n",
    "    if args.timing: print(\"\")\n",
    "    st = GlobalCounters.time_sum_s\n",
    "    with Timing(\"ran model in \", on_exit=(lambda et: f\", {(GlobalCounters.time_sum_s-st)*1e3:.2f} ms on GPU\") if DEBUG else None, enabled=args.timing):\n",
    "      logits = model(onehot_encode(toks[start_pos:]), start_pos).realize()\n",
    "    with Timing(\"sync in \", enabled=args.timing):\n",
    "      tok = sample(logits, args.temperature)\n",
    "\n",
    "    # use the kv cache\n",
    "    start_pos = len(toks)\n",
    "\n",
    "    # add the new token\n",
    "    toks.append(tok)\n",
    "\n",
    "    # TODO: this is a hack to deal with spaces. i think the decode is fast though, so who cares?\n",
    "    cur = sp_model.decode(toks)\n",
    "    sys.stdout.write(cur[len(outputted):])\n",
    "    sys.stdout.flush()\n",
    "    outputted = cur\n",
    "    if chatbot and outputted.endswith(END_DELIM): break\n",
    "\n",
    "  if not chatbot: break"
   ]
  },
  {
   "cell_type": "code",
   "execution_count": null,
   "id": "7a906919",
   "metadata": {},
   "outputs": [],
   "source": []
  }
 ],
 "metadata": {
  "kernelspec": {
   "display_name": "Python 3 (ipykernel)",
   "language": "python",
   "name": "python3"
  },
  "language_info": {
   "codemirror_mode": {
    "name": "ipython",
    "version": 3
   },
   "file_extension": ".py",
   "mimetype": "text/x-python",
   "name": "python",
   "nbconvert_exporter": "python",
   "pygments_lexer": "ipython3",
   "version": "3.10.9"
  }
 },
 "nbformat": 4,
 "nbformat_minor": 5
}
